{
 "cells": [
  {
   "cell_type": "code",
   "execution_count": 4,
   "id": "9b71c8bb-17f7-4842-bb2f-04a90aeff23e",
   "metadata": {},
   "outputs": [
    {
     "name": "stdout",
     "output_type": "stream",
     "text": [
      "15.205295600000001\n",
      "15.205295600000001\n",
      "32.169881600000004\n"
     ]
    }
   ],
   "source": [
    "pi = 3.14159\n",
    "radius = 2.2\n",
    "# area of circle equation <- this is a comment\n",
    "area = pi*(radius**2)\n",
    "print(area)\n",
    "\n",
    "# change values of radius <- another comment\n",
    "# use comments to help others understand what you are doing in code\n",
    "radius = radius + 1\n",
    "print(area)     # area doesn't change\n",
    "area = pi*(radius**2)\n",
    "print(area)"
   ]
  },
  {
   "cell_type": "code",
   "execution_count": 5,
   "id": "de82721a-bdaa-47ce-bf1f-c6b650408607",
   "metadata": {},
   "outputs": [],
   "source": [
    "#############################\n",
    "#### COMMENTING LINES #######\n",
    "#############################\n",
    "# to comment MANY lines at a time, highlight all of them then CTRL+/\n",
    "# do CTRL+/ again to uncomment them\n",
    "# try it on the next few lines below!\n",
    "\n",
    "area = pi*(radius**2)\n",
    "print(area)\n",
    "radius = radius + 1\n",
    "area = pi*(radius**2)\n",
    "print(area)"
   ]
  },
  {
   "cell_type": "code",
   "execution_count": 6,
   "id": "da0e398e-4917-439b-92b5-f3d7b2e96788",
   "metadata": {},
   "outputs": [],
   "source": [
    "#############################\n",
    "#### AUTOCOMPLETE #######\n",
    "#############################\n",
    "# Spyder can autocomplete names for you\n",
    "# start typing a variable name defined in your program and hit tab \n",
    "# before you finish typing -- try it below\n",
    "radius"
   ]
  },
  {
   "cell_type": "code",
   "execution_count": null,
   "id": "aed121b0-3867-4673-bbce-a14dbdd6ee45",
   "metadata": {},
   "outputs": [],
   "source": [
    "# define a variable\n",
    "a_very_long_variable_name_dont_name_them_this_long_pls = 0\n",
    "# below, start typing a_ve then hit tab... cool, right!\n",
    "# use autocomplete to change the value of that variable to 1\n",
    "a_very_long_variable_name_dont_name_them_this_long_pls = 1\n",
    "# use autocomplete to write a line that prints the value of that long variable\n",
    "print(a_very_long_variable_name_dont_name_them_this_long_pls)\n",
    "# notice that Spyder also automatically adds the closed parentheses for you!"
   ]
  }
 ],
 "metadata": {
  "kernelspec": {
   "display_name": "Python [conda env:base] *",
   "language": "python",
   "name": "conda-base-py"
  },
  "language_info": {
   "codemirror_mode": {
    "name": "ipython",
    "version": 3
   },
   "file_extension": ".py",
   "mimetype": "text/x-python",
   "name": "python",
   "nbconvert_exporter": "python",
   "pygments_lexer": "ipython3",
   "version": "3.13.5"
  }
 },
 "nbformat": 4,
 "nbformat_minor": 5
}
